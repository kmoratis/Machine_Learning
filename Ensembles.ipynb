{
  "cells": [
    {
      "attachments": {},
      "cell_type": "markdown",
      "metadata": {
        "id": "O8gU7AYPXMmA"
      },
      "source": [
        "## About iPython Notebooks ##\n",
        "\n",
        "iPython Notebooks are interactive coding environments embedded in a webpage. You will be using iPython notebooks in this class. Make sure you fill in any place that says `# BEGIN CODE HERE #END CODE HERE`. After writing your code, you can run the cell by either pressing \"SHIFT\"+\"ENTER\" or by clicking on \"Run\" (denoted by a play symbol). Before you turn this problem in, make sure everything runs as expected. First, **restart the kernel** (in the menubar, select Kernel$\\rightarrow$Restart) and then **run all cells** (in the menubar, select Cell$\\rightarrow$Run All). \n",
        "\n",
        " **What you need to remember:**\n",
        "\n",
        "- Run your cells using SHIFT+ENTER (or \"Run cell\")\n",
        "- Write code in the designated areas using Python 3 only\n",
        "- Do not modify the code outside of the designated areas\n",
        "- In some cases you will also need to explain the results. There will also be designated areas for that. \n",
        "\n",
        "Fill in your **NAME** and **AEM** below:"
      ]
    },
    {
      "cell_type": "code",
      "execution_count": 1,
      "metadata": {
        "id": "lO-jJrtNXMmH"
      },
      "outputs": [],
      "source": [
        "NAME = \"Konstantinos Moratis\"\n",
        "AEM = \"9589\""
      ]
    },
    {
      "attachments": {},
      "cell_type": "markdown",
      "metadata": {
        "id": "sh0EE7BJXMmJ"
      },
      "source": [
        "---"
      ]
    },
    {
      "attachments": {},
      "cell_type": "markdown",
      "metadata": {
        "id": "v_VpnGyWXMmK"
      },
      "source": [
        "# Assignment 3 - Ensemble Methods #"
      ]
    },
    {
      "attachments": {},
      "cell_type": "markdown",
      "metadata": {
        "id": "2dQ9XoGQXMmK"
      },
      "source": [
        "Welcome to your third assignment. This exercise will test your understanding on Ensemble Methods."
      ]
    },
    {
      "cell_type": "code",
      "execution_count": 2,
      "metadata": {
        "id": "JvHYIhS-XMmL"
      },
      "outputs": [],
      "source": [
        "# Always run this cell\n",
        "import numpy as np\n",
        "import pandas as pd\n",
        "\n",
        "# USE THE FOLLOWING RANDOM STATE FOR YOUR CODE\n",
        "RANDOM_STATE = 42"
      ]
    },
    {
      "attachments": {},
      "cell_type": "markdown",
      "metadata": {
        "id": "joKwpih2XMmM"
      },
      "source": [
        "## Download the Dataset ##\n",
        "Download the dataset using the following cell or from this [link](https://github.com/sakrifor/public/tree/master/machine_learning_course/EnsembleDataset) and put the files in the same folder as the .ipynb file. \n",
        "In this assignment you are going to work with a dataset originated from the [ImageCLEFmed: The Medical Task 2016](https://www.imageclef.org/2016/medical) and the **Compound figure detection** subtask. The goal of this subtask is to identify whether a figure is a compound figure (one image consists of more than one figure) or not. The train dataset consits of 4197 examples/figures and each figure has 4096 features which were extracted using a deep neural network. The *CLASS* column represents the class of each example where 1 is a compoung figure and 0 is not. \n"
      ]
    },
    {
      "cell_type": "code",
      "execution_count": 3,
      "metadata": {
        "colab": {
          "base_uri": "https://localhost:8080/"
        },
        "id": "NJdwPr0bXMmM",
        "outputId": "152d4562-badf-471b-985f-6a2f271d51ff"
      },
      "outputs": [
        {
          "data": {
            "text/plain": [
              "('test_set_noclass.csv', <http.client.HTTPMessage at 0x7f441ca29540>)"
            ]
          },
          "execution_count": 3,
          "metadata": {},
          "output_type": "execute_result"
        }
      ],
      "source": [
        "import urllib.request\n",
        "url_train = 'https://github.com/sakrifor/public/raw/master/machine_learning_course/EnsembleDataset/train_set.csv'\n",
        "filename_train = 'train_set.csv'\n",
        "urllib.request.urlretrieve(url_train, filename_train)\n",
        "url_test = 'https://github.com/sakrifor/public/raw/master/machine_learning_course/EnsembleDataset/test_set_noclass.csv'\n",
        "filename_test = 'test_set_noclass.csv'\n",
        "urllib.request.urlretrieve(url_test, filename_test)"
      ]
    },
    {
      "cell_type": "code",
      "execution_count": 4,
      "metadata": {
        "id": "t0OVtYr7XMmN"
      },
      "outputs": [],
      "source": [
        "# Run this cell to load the data\n",
        "train_set = pd.read_csv(\"train_set.csv\").sample(frac=1).reset_index(drop=True)\n",
        "train_set.head()\n",
        "X = train_set.drop(columns=['CLASS'])\n",
        "y = train_set['CLASS'].values"
      ]
    },
    {
      "cell_type": "code",
      "execution_count": 5,
      "metadata": {
        "colab": {
          "base_uri": "https://localhost:8080/"
        },
        "id": "4XK751YSecqQ",
        "outputId": "487173ca-4585-4937-ac95-743d9ddad4fc"
      },
      "outputs": [
        {
          "name": "stdout",
          "output_type": "stream",
          "text": [
            "Looking in indexes: https://pypi.org/simple, https://us-python.pkg.dev/colab-wheels/public/simple/\n",
            "Requirement already satisfied: imbalanced-learn in /usr/local/lib/python3.10/dist-packages (0.10.1)\n",
            "Requirement already satisfied: numpy>=1.17.3 in /usr/local/lib/python3.10/dist-packages (from imbalanced-learn) (1.22.4)\n",
            "Requirement already satisfied: scipy>=1.3.2 in /usr/local/lib/python3.10/dist-packages (from imbalanced-learn) (1.10.1)\n",
            "Requirement already satisfied: scikit-learn>=1.0.2 in /usr/local/lib/python3.10/dist-packages (from imbalanced-learn) (1.2.2)\n",
            "Requirement already satisfied: joblib>=1.1.1 in /usr/local/lib/python3.10/dist-packages (from imbalanced-learn) (1.2.0)\n",
            "Requirement already satisfied: threadpoolctl>=2.0.0 in /usr/local/lib/python3.10/dist-packages (from imbalanced-learn) (3.1.0)\n"
          ]
        }
      ],
      "source": [
        "!pip install -U imbalanced-learn"
      ]
    },
    {
      "attachments": {},
      "cell_type": "markdown",
      "metadata": {
        "id": "tQH40Vb5fvx2"
      },
      "source": [
        "The following code will reduce the number of instances, dealing with the small imbalance of the dataset, as well as reducing the size of the dataset!"
      ]
    },
    {
      "cell_type": "code",
      "execution_count": 6,
      "metadata": {
        "colab": {
          "base_uri": "https://localhost:8080/"
        },
        "id": "DIgD6Nmkeaxv",
        "outputId": "db41aedd-bf5b-4592-d99a-d35ec7cc4d4d"
      },
      "outputs": [
        {
          "name": "stdout",
          "output_type": "stream",
          "text": [
            "Resampled dataset shape Counter({0: 1687, 1: 1687})\n"
          ]
        }
      ],
      "source": [
        "from collections import Counter\n",
        "from imblearn.under_sampling import NeighbourhoodCleaningRule, RandomUnderSampler\n",
        "\n",
        "ncr = NeighbourhoodCleaningRule()\n",
        "X_res, y_res = ncr.fit_resample(X, y)\n",
        "rus = RandomUnderSampler(random_state=42)\n",
        "X_res, y_res = rus.fit_resample(X_res, y_res)\n",
        "print('Resampled dataset shape %s' % Counter(y_res))\n",
        "X = X_res\n",
        "y = y_res"
      ]
    },
    {
      "attachments": {},
      "cell_type": "markdown",
      "metadata": {
        "id": "ZxOGHSmqXMmO"
      },
      "source": [
        "## 1.0 Testing different ensemble methods ##\n",
        "In this part of the assignment you are asked to create and test different ensemble methods using the train_set.csv dataset. You should use **5-fold cross validation** for your tests and report the average f-measure weighted and balanced accuracy of your models. You can use [cross_validate](https://scikit-learn.org/stable/modules/generated/sklearn.model_selection.cross_validate.html#sklearn.model_selection.cross_validate) and select both metrics to be measured during the evaluation. \n",
        "\n",
        "### !!! Use n_jobs=-1 where is posibble to use all the cores of a machine for running your tests ###"
      ]
    },
    {
      "attachments": {},
      "cell_type": "markdown",
      "metadata": {
        "id": "Ww_u4OlrXMmO"
      },
      "source": [
        "### 1.1 Voting ###\n",
        "Create a voting classifier which uses two **simple** estimators/classifiers. Test both soft and hard voting and report the results. Consider as simple estimators the following:\n",
        "\n",
        "\n",
        "*   Decision Trees\n",
        "*   Linear Models\n",
        "*   KNN Models  "
      ]
    },
    {
      "cell_type": "code",
      "execution_count": 7,
      "metadata": {
        "colab": {
          "base_uri": "https://localhost:8080/"
        },
        "id": "9xKWBVWVz3yV",
        "outputId": "71e6b200-773c-47be-9e57-7fd694bdf30b"
      },
      "outputs": [
        {
          "name": "stdout",
          "output_type": "stream",
          "text": [
            "Classifier:\n",
            "VotingClassifier(estimators=[('dt1',\n",
            "                              LogisticRegression(max_iter=10, random_state=42)),\n",
            "                             ('dt2',\n",
            "                              LogisticRegression(max_iter=10, penalty=None,\n",
            "                                                 random_state=42))],\n",
            "                 n_jobs=-1, voting='soft')\n",
            "F1 Weighted-Score: 0.8891 & Balanced Accuracy: 0.8891\n",
            "Classifier:\n",
            "VotingClassifier(estimators=[('dt1',\n",
            "                              LogisticRegression(max_iter=10, random_state=42)),\n",
            "                             ('dt2',\n",
            "                              LogisticRegression(max_iter=10, penalty=None,\n",
            "                                                 random_state=42))],\n",
            "                 n_jobs=-1)\n",
            "F1 Weighted-Score: 0.8891 & Balanced Accuracy: 0.8891\n"
          ]
        }
      ],
      "source": [
        "### BEGIN SOLUTION\n",
        "from sklearn.model_selection import cross_validate\n",
        "from sklearn.ensemble import VotingClassifier\n",
        "from sklearn.metrics import f1_score, balanced_accuracy_score\n",
        "from sklearn.linear_model import LogisticRegression\n",
        "import warnings\n",
        "from sklearn.exceptions import ConvergenceWarning\n",
        "\n",
        "warnings.filterwarnings(\"ignore\", category=ConvergenceWarning)\n",
        "\n",
        "# USE RANDOM STATE!\n",
        "\n",
        "cls1 = LogisticRegression(penalty='l2', max_iter=10, random_state=RANDOM_STATE) # Classifier #1\n",
        "cls2 = LogisticRegression(penalty=None, max_iter=10, random_state=RANDOM_STATE) # Classifier #2\n",
        "\n",
        "soft_vcls = VotingClassifier(estimators=[('dt1', cls1), ('dt2', cls2)], voting='soft', n_jobs=-1) # Voting Classifier\n",
        "hard_vcls = VotingClassifier(estimators=[('dt1', cls1), ('dt2', cls2)], voting='hard', n_jobs=-1) # Voting Classifier\n",
        "\n",
        "scoring = ['f1_weighted', 'balanced_accuracy']  \n",
        "\n",
        "svlcs_scores = cross_validate(soft_vcls, X, y, cv=5, scoring=scoring, n_jobs=-1)\n",
        "s_avg_fmeasure = np.mean(svlcs_scores['test_f1_weighted']) # The average f-measure\n",
        "s_avg_accuracy = np.mean(svlcs_scores['test_balanced_accuracy']) # The average accuracy\n",
        "\n",
        "hvlcs_scores = cross_validate(hard_vcls, X, y, cv=5, scoring=scoring, n_jobs=-1)\n",
        "h_avg_fmeasure = np.mean(hvlcs_scores['test_f1_weighted']) # The average f-measure\n",
        "h_avg_accuracy = np.mean(hvlcs_scores['test_balanced_accuracy']) # The average accuracy\n",
        "\n",
        "### END SOLUTION\n",
        "\n",
        "print(\"Classifier:\")\n",
        "print(soft_vcls)\n",
        "print(\"F1 Weighted-Score: {} & Balanced Accuracy: {}\".format(round(s_avg_fmeasure,4), round(s_avg_accuracy,4)))\n",
        "\n",
        "print(\"Classifier:\")\n",
        "print(hard_vcls)\n",
        "print(\"F1 Weighted-Score: {} & Balanced Accuracy: {}\".format(round(h_avg_fmeasure,4), round(h_avg_accuracy,4)))"
      ]
    },
    {
      "attachments": {},
      "cell_type": "markdown",
      "metadata": {
        "id": "92ubbtE8gtHy"
      },
      "source": [
        "For both soft/hard voting classifiers the F1 weighted score should be above 0.74 and 0.79, respectively, and for balanced accuracy 0.74 and 0.80. Remember! This should be the average performance of each fold, as measured through cross-validation with 5 folds!"
      ]
    },
    {
      "attachments": {},
      "cell_type": "markdown",
      "metadata": {
        "id": "KPG8MdFLXMmV"
      },
      "source": [
        "### 1.2 Randomization\n",
        "\n",
        "You are asked to create three ensembles of decision trees where each one uses a different method for producing homogeneous ensembles. Compare them with a simple decision tree classifier and report your results in the dictionaries (dict) below using as key the given name of your classifier and as value the f1_weighted/balanced_accuracy score. The dictionaries should contain four different elements. Use the same cross-validation approach as before! "
      ]
    },
    {
      "cell_type": "code",
      "execution_count": 8,
      "metadata": {
        "colab": {
          "base_uri": "https://localhost:8080/"
        },
        "id": "PmkaP-DjXMmV",
        "outputId": "994e3950-b438-457f-9305-04f4c9957555"
      },
      "outputs": [
        {
          "name": "stdout",
          "output_type": "stream",
          "text": [
            "VotingClassifier(estimators=[('dt1',\n",
            "                              DecisionTreeClassifier(min_samples_leaf=5,\n",
            "                                                     random_state=42)),\n",
            "                             ('dt2',\n",
            "                              LogisticRegression(max_iter=10, penalty=None,\n",
            "                                                 random_state=42))],\n",
            "                 n_jobs=-1)\n",
            "StackingClassifier(estimators=[('dt',\n",
            "                                DecisionTreeClassifier(min_samples_leaf=5,\n",
            "                                                       random_state=42)),\n",
            "                               ('dt5',\n",
            "                                LogisticRegression(max_iter=10, penalty=None,\n",
            "                                                   random_state=42))],\n",
            "                   final_estimator=LogisticRegression(random_state=42),\n",
            "                   n_jobs=-1)\n",
            "RandomForestClassifier(n_jobs=-1, random_state=42)\n",
            "DecisionTreeClassifier(random_state=42)\n",
            "Classifier: Voting -  F1 Weighted: 0.8126\n",
            "Classifier: Stacking -  F1 Weighted: 0.89\n",
            "Classifier: Bagging -  F1 Weighted: 0.8636\n",
            "Classifier: Decision_Tree -  F1 Weighted: 0.7278\n",
            "Classifier: Voting -  BalancedAccuracy: 0.8153\n",
            "Classifier: Stacking -  BalancedAccuracy: 0.89\n",
            "Classifier: Bagging -  BalancedAccuracy: 0.8637\n",
            "Classifier: Decision_Tree -  BalancedAccuracy: 0.7279\n"
          ]
        }
      ],
      "source": [
        "### BEGIN SOLUTION\n",
        "from sklearn.tree import DecisionTreeClassifier\n",
        "from sklearn.ensemble import StackingClassifier, RandomForestClassifier\n",
        "\n",
        "cls1 = DecisionTreeClassifier(random_state=RANDOM_STATE) # Classifier 1\n",
        "cls1 = DecisionTreeClassifier(random_state=RANDOM_STATE, min_samples_leaf=5) # Classifier 2\n",
        "\n",
        "cls = [('dt', cls1),('dt5', cls2)]\n",
        "fest = LogisticRegression(random_state=RANDOM_STATE) # Meta-Model for Stacking\n",
        "\n",
        "ens1 = VotingClassifier(estimators=[('dt1', cls1), ('dt2', cls2)], n_jobs=-1)\n",
        "ens2 = StackingClassifier(cls, fest, n_jobs=-1)\n",
        "ens3 = RandomForestClassifier(n_estimators=100, random_state=RANDOM_STATE, n_jobs=-1)\n",
        "tree = DecisionTreeClassifier(random_state=RANDOM_STATE)\n",
        "\n",
        "scoring = ['f1_weighted', 'balanced_accuracy']\n",
        "\n",
        "ens1_scores = cross_validate(ens1, X, y, cv=5, scoring=scoring, n_jobs=-1)\n",
        "ens1_avg_fmeasure = np.mean(ens1_scores['test_f1_weighted']) # The average f-measure\n",
        "ens1_avg_accuracy = np.mean(ens1_scores['test_balanced_accuracy']) # The average accuracy\n",
        "\n",
        "ens2_scores = cross_validate(ens2, X, y, cv=5, scoring=scoring, n_jobs=-1)\n",
        "ens2_avg_fmeasure = np.mean(ens2_scores['test_f1_weighted']) # The average f-measure\n",
        "ens2_avg_accuracy = np.mean(ens2_scores['test_balanced_accuracy']) # The average accuracy\n",
        "\n",
        "ens3_scores = cross_validate(ens3, X, y, cv=5, scoring=scoring, n_jobs=-1)\n",
        "ens3_avg_fmeasure = np.mean(ens3_scores['test_f1_weighted']) # The average f-measure\n",
        "ens3_avg_accuracy = np.mean(ens3_scores['test_balanced_accuracy']) # The average accuracy\n",
        "\n",
        "tree_scores = cross_validate(tree, X, y, cv=5, scoring=scoring, n_jobs=-1)\n",
        "tree_avg_fmeasure = np.mean(tree_scores['test_f1_weighted']) # The average f-measure\n",
        "tree_avg_accuracy = np.mean(tree_scores['test_balanced_accuracy']) # The average accuracy\n",
        "\n",
        "f_measures = dict({'Voting': ens1_avg_fmeasure, 'Stacking': ens2_avg_fmeasure, 'Bagging': ens3_avg_fmeasure, 'Decision_Tree': tree_avg_fmeasure})\n",
        "accuracies = dict({'Voting': ens1_avg_accuracy, 'Stacking': ens2_avg_accuracy, 'Bagging': ens3_avg_accuracy, 'Decision_Tree': tree_avg_accuracy})\n",
        "# Example f_measures = {'Simple Decision':0.8551, 'Ensemble with random ...': 0.92, ...}\n",
        "\n",
        "\n",
        "### END SOLUTION\n",
        "\n",
        "print(ens1)\n",
        "print(ens2)\n",
        "print(ens3)\n",
        "print(tree)\n",
        "for name,score in f_measures.items():\n",
        "    print(\"Classifier: {} -  F1 Weighted: {}\".format(name,round(score,4)))\n",
        "for name,score in accuracies.items():\n",
        "    print(\"Classifier: {} -  BalancedAccuracy: {}\".format(name,round(score,4)))"
      ]
    },
    {
      "attachments": {},
      "cell_type": "markdown",
      "metadata": {
        "id": "lkJeuV1FXMmX"
      },
      "source": [
        "### 1.3 Question\n",
        "\n",
        "Increasing the number of estimators in a bagging classifier can drastically increase the training time of a classifier. Is there any solution to this problem? Can the same solution be applied to boosting classifiers?"
      ]
    },
    {
      "attachments": {},
      "cell_type": "markdown",
      "metadata": {
        "id": "ApNEPcWEXMmY"
      },
      "source": [
        "Στην περίπτωση του bagging, ο χρόνος εκπαίδευσης μπορεί να μειωθεί σημαντικά με παραλληλοποίηση της διαδικασίας. Δηλαδή, ορίζοντας τον αριθμό των jobs, μπορούμε να ορίσουμε το πόσες δουλειές θα γίνονταί ταυτόχρονα. Έτσι, τόσο το training όσο και το prediction μπορούν να γίνουν παράλληλα, με αποτέλεσμα να χρειάζονται λιγότερο χρόνο. Όμως, αυτό δεν μπορεί να χρησιμοποιηθεί στην περίπτωση των Boosting αλγορίθμων, καθώς τα μοντέλα αυτά εκπαιδεύονται σειριακά, αφού το κάθε ένα χρησιμοποιεί την έξοδο του προηγούμενου για την εκπαίδευσή του."
      ]
    },
    {
      "attachments": {},
      "cell_type": "markdown",
      "metadata": {
        "id": "XgvsCbUGXMmY"
      },
      "source": [
        "## 2.0 Creating the best classifier ##\n",
        "In the second part of this assignment, we will try to train the best classifier, as well as to evaluate it using stratified cross valdiation."
      ]
    },
    {
      "attachments": {},
      "cell_type": "markdown",
      "metadata": {
        "id": "Q6daX2mRXMmZ"
      },
      "source": [
        "### 2.1 Good Performing Ensemble\n",
        "\n",
        "In this part of the assignment you are asked to train a good performing ensemble, that is able to be used in a production environment! Describe the process you followed to achieve this result. How did you choose your classifier and your parameters and why. Report the f-measure (weighted) & balanced accuracy, using 10-fold stratified cross validation, of your final classifier. Can you achieve a balanced accuracy over 88%, while keeping the training time low? (Tip 1: You can even use a model from the previous parts, but you are advised to test additional configurations, and ensemble architectures, Tip 2: If you try a lot of models/ensembles/configurations or even grid searches, in your answer leave only the classifier you selected as the best!)"
      ]
    },
    {
      "cell_type": "code",
      "execution_count": 9,
      "metadata": {
        "colab": {
          "base_uri": "https://localhost:8080/"
        },
        "id": "00xAQ0HfXMmZ",
        "outputId": "b805939a-9e90-4ee0-e47e-4980ff5fa33a"
      },
      "outputs": [
        {
          "name": "stderr",
          "output_type": "stream",
          "text": [
            "/usr/local/lib/python3.10/dist-packages/joblib/externals/loky/process_executor.py:700: UserWarning: A worker stopped while some jobs were given to the executor. This can be caused by a too short worker timeout or by a memory leak.\n",
            "  warnings.warn(\n"
          ]
        },
        {
          "name": "stdout",
          "output_type": "stream",
          "text": [
            "119.7462 seconds\n",
            "Classifier:\n",
            "F1 Weighted-Score: 0.890015067995692 & Balanced Accuracy: 0.8900412087912087\n"
          ]
        }
      ],
      "source": [
        "### BEGIN SOLUTION\n",
        "from sklearn.ensemble import GradientBoostingClassifier\n",
        "from xgboost import XGBClassifier\n",
        "import time\n",
        "\n",
        "best_cls = XGBClassifier(n_estimators=150, tree_method='gpu_hist', random_state=RANDOM_STATE)\n",
        "\n",
        "scoring = ['f1_weighted', 'balanced_accuracy']\n",
        "\n",
        "start_time = time.time()\n",
        "best_scores = cross_validate(best_cls, X, y, cv=10, scoring=scoring, n_jobs=-1)\n",
        "print(\"%s seconds\" % (round((time.time() - start_time),4)))\n",
        "\n",
        "best_fmeasure = np.mean(best_scores['test_f1_weighted'])\n",
        "best_accuracy = np.mean(best_scores['test_balanced_accuracy'])\n",
        "### END SOLUTION\n",
        "\n",
        "print(\"Classifier:\")\n",
        "#print(best_cls)\n",
        "print(\"F1 Weighted-Score: {} & Balanced Accuracy: {}\".format(best_fmeasure, best_accuracy))"
      ]
    },
    {
      "attachments": {},
      "cell_type": "markdown",
      "metadata": {
        "id": "lnAp-d2DXMmf"
      },
      "source": [
        "LEAVE HERE ANY COMMENTS ABOUT YOUR CLASSIFIER\n"
      ]
    },
    {
      "attachments": {},
      "cell_type": "markdown",
      "metadata": {
        "id": "vnos1uqzXMma"
      },
      "source": [
        "### 2.2 Question\n",
        " What other ensemble architectures you tried, and why you did not choose them as your final classifier?"
      ]
    },
    {
      "attachments": {},
      "cell_type": "markdown",
      "metadata": {
        "id": "o5dAfbTfXMmb"
      },
      "source": [
        "Επέλεξα να χρησιμοποιήσω Gradient Boosting, καθώς όπως γνωρίζουμε από τη θεωρία είναι από τους καλύτερους αλγορίθμους για tabular data. \n",
        "\n",
        "Αρχικά δοκίμασα το GradientBoostingClassifier, όμως για τα δεδομένα αυτά και για 10-fold cross validation, ο χρόνος εκτέλεσης ήταν πολύ μεγάλος.\n",
        "\n",
        "Επομένως, διάλεξα το XGBClassifier, που είναι μία προσεγγιστική εκδοχή του Gradient Boosting, αλλά πολύ πιο γρήγορη. Έτσι, για 150 estimators, επιτυγχάνουμε την επιθυμητή απόδοση σε ένα εύλογο χρονικό διάστημα.\n",
        "\n",
        "Αν θέλουμε ακόμα καλύτερη απόδοση μπορούμε να χρησιμοποιήσουμε μεγαλύτερο αριθμό από estimators, με αντίκτυπο όμως στο training time."
      ]
    },
    {
      "attachments": {},
      "cell_type": "markdown",
      "metadata": {
        "id": "dI1yb95A8r3k"
      },
      "source": [
        "### 2.3 Setup the Final Classifier\n",
        "Finally, in this last cell, set the cls variable to either the best model as occured by the stratified cross_validation, or choose to retrain your classifier in the whole dataset (X, y). There is no correct answer, but try to explain your choice. Then, save your model using pickle and upload it with your submission to e-learning!"
      ]
    },
    {
      "cell_type": "code",
      "execution_count": 10,
      "metadata": {
        "id": "GYNkmiUOXMmh"
      },
      "outputs": [],
      "source": [
        "import pickle\n",
        "\n",
        "### BEGIN SOLUTION\n",
        "\n",
        "# Retrain classifier in the whole dataset (X,y), \n",
        "# in order to use all the available information contained in the training set \n",
        "cls = XGBClassifier(n_estimators=150, tree_method='gpu_hist', random_state=RANDOM_STATE)\n",
        "\n",
        "model = cls.fit(X, y)\n",
        "\n",
        "# save with pickle\n",
        "file_name = \"assignment3_pkl\"\n",
        "pickle.dump(model, open(file_name, 'wb'))\n",
        "### END SOLUTION\n",
        "\n",
        "\n",
        "# load\n",
        "cls = pickle.load(open(file_name, \"rb\"))\n",
        "\n",
        "test_set = pd.read_csv(\"test_set_noclass.csv\")\n",
        "predictions = cls.predict(test_set)\n",
        "\n",
        "# We are going to run the following code\n",
        "if False:\n",
        "  from sklearn.metrics import f1_score, balanced_accuracy_score\n",
        "  final_test_set = pd.read_csv('test_set.csv')\n",
        "  ground_truth = final_test_set['CLASS']\n",
        "  print(\"Balanced Accuracy: {}\".format(balanced_accuracy_score(predictions, ground_truth)))\n",
        "  print(\"F1 Weighted-Score: {}\".format(f1_score(predictions, ground_truth, average='weighted')))"
      ]
    },
    {
      "attachments": {},
      "cell_type": "markdown",
      "metadata": {
        "id": "2pB4bTSj4Bvj"
      },
      "source": [
        "Both metrics should aim above 82%! This is going to be tested by us! Make sure your cross validation or your retrained model achieves high balanced accuracy and f1_score (based on 2.1) (more than 88%) as it should achieve at least 82% in our unknown test set!\n"
      ]
    },
    {
      "cell_type": "code",
      "execution_count": 11,
      "metadata": {
        "id": "nKOqckSplTlx"
      },
      "outputs": [],
      "source": []
    }
  ],
  "metadata": {
    "accelerator": "GPU",
    "colab": {
      "provenance": []
    },
    "kernelspec": {
      "display_name": "Python 3",
      "language": "python",
      "name": "python3"
    },
    "language_info": {
      "codemirror_mode": {
        "name": "ipython",
        "version": 3
      },
      "file_extension": ".py",
      "mimetype": "text/x-python",
      "name": "python",
      "nbconvert_exporter": "python",
      "pygments_lexer": "ipython3",
      "version": "3.7.10"
    }
  },
  "nbformat": 4,
  "nbformat_minor": 0
}
